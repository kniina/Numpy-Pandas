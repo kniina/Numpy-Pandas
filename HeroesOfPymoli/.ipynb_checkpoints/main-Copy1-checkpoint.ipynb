{
 "cells": [
  {
   "cell_type": "markdown",
   "metadata": {},
   "source": [
    "# Heroes of Pymoli Data Analysis\n",
    "\n",
    "\n"
   ]
  },
  {
   "cell_type": "code",
   "execution_count": 114,
   "metadata": {},
   "outputs": [],
   "source": [
    "# Import dependencies\n",
    "import pandas as pd\n",
    "import numpy as np\n",
    "\n",
    "# Store file path in variable and read file with Pandas\n",
    "dataFile = \"../HeroesOfPymoli/purchase_data.json\"\n",
    "PymoliDF = pd.read_json(dataFile)\n"
   ]
  },
  {
   "cell_type": "code",
   "execution_count": 381,
   "metadata": {},
   "outputs": [
    {
     "data": {
      "text/html": [
       "<div>\n",
       "<style scoped>\n",
       "    .dataframe tbody tr th:only-of-type {\n",
       "        vertical-align: middle;\n",
       "    }\n",
       "\n",
       "    .dataframe tbody tr th {\n",
       "        vertical-align: top;\n",
       "    }\n",
       "\n",
       "    .dataframe thead th {\n",
       "        text-align: right;\n",
       "    }\n",
       "</style>\n",
       "<table border=\"1\" class=\"dataframe\">\n",
       "  <thead>\n",
       "    <tr style=\"text-align: right;\">\n",
       "      <th></th>\n",
       "      <th>Total Players</th>\n",
       "    </tr>\n",
       "  </thead>\n",
       "  <tbody>\n",
       "    <tr>\n",
       "      <th>0</th>\n",
       "      <td>573</td>\n",
       "    </tr>\n",
       "  </tbody>\n",
       "</table>\n",
       "</div>"
      ],
      "text/plain": [
       "   Total Players\n",
       "0            573"
      ]
     },
     "execution_count": 381,
     "metadata": {},
     "output_type": "execute_result"
    }
   ],
   "source": [
    "## Player Count\n",
    "# Calculate total number of players\n",
    "\n",
    "uniquePlayers = PymoliDF[\"SN\"].nunique()\n",
    "playerCountDF = pd.DataFrame({\"Total Players\": [uniquePlayers]})\n",
    "playerCountDF"
   ]
  },
  {
   "cell_type": "code",
   "execution_count": 375,
   "metadata": {},
   "outputs": [
    {
     "data": {
      "text/html": [
       "<style  type=\"text/css\" >\n",
       "</style>  \n",
       "<table id=\"T_b10b7d52_73f2_11e8_8c28_88e9fe57aac0\" > \n",
       "<thead>    <tr> \n",
       "        <th class=\"blank level0\" ></th> \n",
       "        <th class=\"col_heading level0 col0\" >Average Price</th> \n",
       "        <th class=\"col_heading level0 col1\" >Number of Purchases</th> \n",
       "        <th class=\"col_heading level0 col2\" >Number of Unique Items</th> \n",
       "        <th class=\"col_heading level0 col3\" >Total Revenue</th> \n",
       "    </tr></thead> \n",
       "<tbody>    <tr> \n",
       "        <th id=\"T_b10b7d52_73f2_11e8_8c28_88e9fe57aac0level0_row0\" class=\"row_heading level0 row0\" >0</th> \n",
       "        <td id=\"T_b10b7d52_73f2_11e8_8c28_88e9fe57aac0row0_col0\" class=\"data row0 col0\" >$2.93</td> \n",
       "        <td id=\"T_b10b7d52_73f2_11e8_8c28_88e9fe57aac0row0_col1\" class=\"data row0 col1\" >780</td> \n",
       "        <td id=\"T_b10b7d52_73f2_11e8_8c28_88e9fe57aac0row0_col2\" class=\"data row0 col2\" >179</td> \n",
       "        <td id=\"T_b10b7d52_73f2_11e8_8c28_88e9fe57aac0row0_col3\" class=\"data row0 col3\" >$2,286.33</td> \n",
       "    </tr></tbody> \n",
       "</table> "
      ],
      "text/plain": [
       "<pandas.io.formats.style.Styler at 0x1a1a2f6048>"
      ]
     },
     "execution_count": 375,
     "metadata": {},
     "output_type": "execute_result"
    }
   ],
   "source": [
    "## Purchasing Analysis (Total) \n",
    "# Calculate Number of Unique Items, Average Purchase Price, Total Number of Purchases, Total Revenue and assign variables\n",
    "\n",
    "uniqueItems = PymoliDF[\"Item Name\"].nunique()\n",
    "avgPrice = PymoliDF['Price'].mean()\n",
    "totalNumPurchases = PymoliDF[\"Price\"].count()\n",
    "totalRevenue = PymoliDF[\"Price\"].sum()\n",
    "\n",
    "# Print data frame for purchase analysis with specified columns\n",
    "purchaseAnalysisDF = pd.DataFrame({\"Number of Unique Items\": [uniqueItems], \n",
    "                                   \"Average Price\": [avgPrice], \n",
    "                                   \"Number of Purchases\": [totalNumPurchases], \n",
    "                                   \"Total Revenue\": [totalRevenue]})\\\n",
    "                                   .style.format({\"Average Price\": \"${:,.2f}\", \n",
    "                                                  \"Total Revenue\": \"${:,.2f}\"})\n",
    "purchaseAnalysisDF\n"
   ]
  },
  {
   "cell_type": "code",
   "execution_count": 383,
   "metadata": {},
   "outputs": [
    {
     "data": {
      "text/html": [
       "<style  type=\"text/css\" >\n",
       "</style>  \n",
       "<table id=\"T_3eacc834_73f3_11e8_a05f_88e9fe57aac0\" > \n",
       "<thead>    <tr> \n",
       "        <th class=\"blank level0\" ></th> \n",
       "        <th class=\"col_heading level0 col0\" >Percentage of Players</th> \n",
       "        <th class=\"col_heading level0 col1\" >Total Count</th> \n",
       "    </tr>    <tr> \n",
       "        <th class=\"index_name level0\" >Gender</th> \n",
       "        <th class=\"blank\" ></th> \n",
       "        <th class=\"blank\" ></th> \n",
       "    </tr></thead> \n",
       "<tbody>    <tr> \n",
       "        <th id=\"T_3eacc834_73f3_11e8_a05f_88e9fe57aac0level0_row0\" class=\"row_heading level0 row0\" >Female</th> \n",
       "        <td id=\"T_3eacc834_73f3_11e8_a05f_88e9fe57aac0row0_col0\" class=\"data row0 col0\" >17.45%</td> \n",
       "        <td id=\"T_3eacc834_73f3_11e8_a05f_88e9fe57aac0row0_col1\" class=\"data row0 col1\" >100</td> \n",
       "    </tr>    <tr> \n",
       "        <th id=\"T_3eacc834_73f3_11e8_a05f_88e9fe57aac0level0_row1\" class=\"row_heading level0 row1\" >Male</th> \n",
       "        <td id=\"T_3eacc834_73f3_11e8_a05f_88e9fe57aac0row1_col0\" class=\"data row1 col0\" >81.15%</td> \n",
       "        <td id=\"T_3eacc834_73f3_11e8_a05f_88e9fe57aac0row1_col1\" class=\"data row1 col1\" >465</td> \n",
       "    </tr>    <tr> \n",
       "        <th id=\"T_3eacc834_73f3_11e8_a05f_88e9fe57aac0level0_row2\" class=\"row_heading level0 row2\" >Other / Non-Disclosed</th> \n",
       "        <td id=\"T_3eacc834_73f3_11e8_a05f_88e9fe57aac0row2_col0\" class=\"data row2 col0\" >1.40%</td> \n",
       "        <td id=\"T_3eacc834_73f3_11e8_a05f_88e9fe57aac0row2_col1\" class=\"data row2 col1\" >8</td> \n",
       "    </tr></tbody> \n",
       "</table> "
      ],
      "text/plain": [
       "<pandas.io.formats.style.Styler at 0x1a1a4d5198>"
      ]
     },
     "execution_count": 383,
     "metadata": {},
     "output_type": "execute_result"
    }
   ],
   "source": [
    "## Gender Demographics\n",
    "# Calculate percentage and count of Male, Female and Other/Non-Disclosed players\n",
    "\n",
    "gCount = PymoliDF.groupby(\"Gender\")[\"SN\"].nunique()\n",
    "gPercent = ((gCount / uniquePlayers)*100)\n",
    "\n",
    "genderDemoDF = pd.DataFrame({\"Percentage of Players\": gPercent, \"Total Count\": gCount})\\\n",
    "                             .style.format({\"Percentage of Players\":\"{0:.2f}%\"})\n",
    "genderDemoDF\n"
   ]
  },
  {
   "cell_type": "code",
   "execution_count": 377,
   "metadata": {},
   "outputs": [
    {
     "data": {
      "text/html": [
       "<style  type=\"text/css\" >\n",
       "</style>  \n",
       "<table id=\"T_de020b34_73f2_11e8_ae4c_88e9fe57aac0\" > \n",
       "<thead>    <tr> \n",
       "        <th class=\"blank level0\" ></th> \n",
       "        <th class=\"col_heading level0 col0\" >Average Purchase Price</th> \n",
       "        <th class=\"col_heading level0 col1\" >Normalized Totals</th> \n",
       "        <th class=\"col_heading level0 col2\" >Purchase Count</th> \n",
       "        <th class=\"col_heading level0 col3\" >Total Purchase Value</th> \n",
       "    </tr>    <tr> \n",
       "        <th class=\"index_name level0\" >Gender</th> \n",
       "        <th class=\"blank\" ></th> \n",
       "        <th class=\"blank\" ></th> \n",
       "        <th class=\"blank\" ></th> \n",
       "        <th class=\"blank\" ></th> \n",
       "    </tr></thead> \n",
       "<tbody>    <tr> \n",
       "        <th id=\"T_de020b34_73f2_11e8_ae4c_88e9fe57aac0level0_row0\" class=\"row_heading level0 row0\" >Female</th> \n",
       "        <td id=\"T_de020b34_73f2_11e8_ae4c_88e9fe57aac0row0_col0\" class=\"data row0 col0\" >$2.82</td> \n",
       "        <td id=\"T_de020b34_73f2_11e8_ae4c_88e9fe57aac0row0_col1\" class=\"data row0 col1\" >3.83</td> \n",
       "        <td id=\"T_de020b34_73f2_11e8_ae4c_88e9fe57aac0row0_col2\" class=\"data row0 col2\" >136</td> \n",
       "        <td id=\"T_de020b34_73f2_11e8_ae4c_88e9fe57aac0row0_col3\" class=\"data row0 col3\" >$382.91</td> \n",
       "    </tr>    <tr> \n",
       "        <th id=\"T_de020b34_73f2_11e8_ae4c_88e9fe57aac0level0_row1\" class=\"row_heading level0 row1\" >Male</th> \n",
       "        <td id=\"T_de020b34_73f2_11e8_ae4c_88e9fe57aac0row1_col0\" class=\"data row1 col0\" >$2.95</td> \n",
       "        <td id=\"T_de020b34_73f2_11e8_ae4c_88e9fe57aac0row1_col1\" class=\"data row1 col1\" >4.02</td> \n",
       "        <td id=\"T_de020b34_73f2_11e8_ae4c_88e9fe57aac0row1_col2\" class=\"data row1 col2\" >633</td> \n",
       "        <td id=\"T_de020b34_73f2_11e8_ae4c_88e9fe57aac0row1_col3\" class=\"data row1 col3\" >$1,867.68</td> \n",
       "    </tr>    <tr> \n",
       "        <th id=\"T_de020b34_73f2_11e8_ae4c_88e9fe57aac0level0_row2\" class=\"row_heading level0 row2\" >Other / Non-Disclosed</th> \n",
       "        <td id=\"T_de020b34_73f2_11e8_ae4c_88e9fe57aac0row2_col0\" class=\"data row2 col0\" >$3.25</td> \n",
       "        <td id=\"T_de020b34_73f2_11e8_ae4c_88e9fe57aac0row2_col1\" class=\"data row2 col1\" >4.47</td> \n",
       "        <td id=\"T_de020b34_73f2_11e8_ae4c_88e9fe57aac0row2_col2\" class=\"data row2 col2\" >11</td> \n",
       "        <td id=\"T_de020b34_73f2_11e8_ae4c_88e9fe57aac0row2_col3\" class=\"data row2 col3\" >$35.74</td> \n",
       "    </tr></tbody> \n",
       "</table> "
      ],
      "text/plain": [
       "<pandas.io.formats.style.Styler at 0x1a1a51a710>"
      ]
     },
     "execution_count": 377,
     "metadata": {},
     "output_type": "execute_result"
    }
   ],
   "source": [
    "## Purchasing Analysis (Gender)\n",
    "# Calculate purchase count, avg puchase price, total purchase value and normalized totals by gender\n",
    "\n",
    "pCount = PymoliDF.groupby(\"Gender\")[\"Price\"].count()\n",
    "avgPurchPrice = round(PymoliDF.groupby(\"Gender\")[\"Price\"].mean(), 2)\n",
    "tPurchValue = round(PymoliDF.groupby(\"Gender\")[\"Price\"].sum(), 2)\n",
    "normTotal = round(tPurchValue / gCount, 2)\n",
    "\n",
    "gPurchAnalysisDF = pd.DataFrame({\"Purchase Count\": pCount, \n",
    "                                 \"Average Purchase Price\": avgPurchPrice, \n",
    "                                 \"Total Purchase Value\": tPurchValue,\n",
    "                                 \"Normalized Totals\": normTotal}).style.format({\"Average Purchase Price\":\"${:,.2f}\", \n",
    "                                                                                \"Total Purchase Value\":\"${:,.2f}\"})\n",
    "gPurchAnalysisDF\n"
   ]
  },
  {
   "cell_type": "code",
   "execution_count": 378,
   "metadata": {},
   "outputs": [
    {
     "data": {
      "text/html": [
       "<style  type=\"text/css\" >\n",
       "</style>  \n",
       "<table id=\"T_08afabdc_73f3_11e8_b7ff_88e9fe57aac0\" > \n",
       "<thead>    <tr> \n",
       "        <th class=\"blank level0\" ></th> \n",
       "        <th class=\"col_heading level0 col0\" >Percentage of Players</th> \n",
       "        <th class=\"col_heading level0 col1\" >Total Count</th> \n",
       "    </tr>    <tr> \n",
       "        <th class=\"index_name level0\" >Age Group</th> \n",
       "        <th class=\"blank\" ></th> \n",
       "        <th class=\"blank\" ></th> \n",
       "    </tr></thead> \n",
       "<tbody>    <tr> \n",
       "        <th id=\"T_08afabdc_73f3_11e8_b7ff_88e9fe57aac0level0_row0\" class=\"row_heading level0 row0\" ><10</th> \n",
       "        <td id=\"T_08afabdc_73f3_11e8_b7ff_88e9fe57aac0row0_col0\" class=\"data row0 col0\" >3.32%</td> \n",
       "        <td id=\"T_08afabdc_73f3_11e8_b7ff_88e9fe57aac0row0_col1\" class=\"data row0 col1\" >19</td> \n",
       "    </tr>    <tr> \n",
       "        <th id=\"T_08afabdc_73f3_11e8_b7ff_88e9fe57aac0level0_row1\" class=\"row_heading level0 row1\" >10-14</th> \n",
       "        <td id=\"T_08afabdc_73f3_11e8_b7ff_88e9fe57aac0row1_col0\" class=\"data row1 col0\" >4.01%</td> \n",
       "        <td id=\"T_08afabdc_73f3_11e8_b7ff_88e9fe57aac0row1_col1\" class=\"data row1 col1\" >23</td> \n",
       "    </tr>    <tr> \n",
       "        <th id=\"T_08afabdc_73f3_11e8_b7ff_88e9fe57aac0level0_row2\" class=\"row_heading level0 row2\" >15-19</th> \n",
       "        <td id=\"T_08afabdc_73f3_11e8_b7ff_88e9fe57aac0row2_col0\" class=\"data row2 col0\" >17.45%</td> \n",
       "        <td id=\"T_08afabdc_73f3_11e8_b7ff_88e9fe57aac0row2_col1\" class=\"data row2 col1\" >100</td> \n",
       "    </tr>    <tr> \n",
       "        <th id=\"T_08afabdc_73f3_11e8_b7ff_88e9fe57aac0level0_row3\" class=\"row_heading level0 row3\" >20-24</th> \n",
       "        <td id=\"T_08afabdc_73f3_11e8_b7ff_88e9fe57aac0row3_col0\" class=\"data row3 col0\" >45.20%</td> \n",
       "        <td id=\"T_08afabdc_73f3_11e8_b7ff_88e9fe57aac0row3_col1\" class=\"data row3 col1\" >259</td> \n",
       "    </tr>    <tr> \n",
       "        <th id=\"T_08afabdc_73f3_11e8_b7ff_88e9fe57aac0level0_row4\" class=\"row_heading level0 row4\" >25-29</th> \n",
       "        <td id=\"T_08afabdc_73f3_11e8_b7ff_88e9fe57aac0row4_col0\" class=\"data row4 col0\" >15.18%</td> \n",
       "        <td id=\"T_08afabdc_73f3_11e8_b7ff_88e9fe57aac0row4_col1\" class=\"data row4 col1\" >87</td> \n",
       "    </tr>    <tr> \n",
       "        <th id=\"T_08afabdc_73f3_11e8_b7ff_88e9fe57aac0level0_row5\" class=\"row_heading level0 row5\" >30-34</th> \n",
       "        <td id=\"T_08afabdc_73f3_11e8_b7ff_88e9fe57aac0row5_col0\" class=\"data row5 col0\" >8.20%</td> \n",
       "        <td id=\"T_08afabdc_73f3_11e8_b7ff_88e9fe57aac0row5_col1\" class=\"data row5 col1\" >47</td> \n",
       "    </tr>    <tr> \n",
       "        <th id=\"T_08afabdc_73f3_11e8_b7ff_88e9fe57aac0level0_row6\" class=\"row_heading level0 row6\" >35-39</th> \n",
       "        <td id=\"T_08afabdc_73f3_11e8_b7ff_88e9fe57aac0row6_col0\" class=\"data row6 col0\" >4.71%</td> \n",
       "        <td id=\"T_08afabdc_73f3_11e8_b7ff_88e9fe57aac0row6_col1\" class=\"data row6 col1\" >27</td> \n",
       "    </tr>    <tr> \n",
       "        <th id=\"T_08afabdc_73f3_11e8_b7ff_88e9fe57aac0level0_row7\" class=\"row_heading level0 row7\" >40></th> \n",
       "        <td id=\"T_08afabdc_73f3_11e8_b7ff_88e9fe57aac0row7_col0\" class=\"data row7 col0\" >1.92%</td> \n",
       "        <td id=\"T_08afabdc_73f3_11e8_b7ff_88e9fe57aac0row7_col1\" class=\"data row7 col1\" >11</td> \n",
       "    </tr></tbody> \n",
       "</table> "
      ],
      "text/plain": [
       "<pandas.io.formats.style.Styler at 0x1a1a736748>"
      ]
     },
     "execution_count": 378,
     "metadata": {},
     "output_type": "execute_result"
    }
   ],
   "source": [
    "## Age Demographics\n",
    "# Calculate percentage of players and total count\n",
    "\n",
    "bins = [0, 9.9, 14.9, 19.9, 24.9, 29.9, 34.9, 39.9, 99] \n",
    "ageGroups = [\"<10\", \"10-14\", \"15-19\", \"20-24\", \"25-29\", \"30-34\", \"35-39\", \"40>\"]\n",
    "\n",
    "PymoliDF[\"Age Group\"] = pd.cut(PymoliDF[\"Age\"], bins, labels=ageGroups)\n",
    "\n",
    "ageGroupCount = PymoliDF.groupby(\"Age Group\")['SN'].nunique()\n",
    "ageGroupPercent = round((ageGroupCount / uniquePlayers)*100, 2)\n",
    "\n",
    "ageGroupDemoDF = pd.DataFrame({\"Percentage of Players\": ageGroupPercent, \n",
    "                               \"Total Count\": ageGroupCount})\\\n",
    "                               .style.format({\"Percentage of Players\":\"{0:.2f}%\"})\n",
    "\n",
    "ageGroupDemoDF\n"
   ]
  },
  {
   "cell_type": "code",
   "execution_count": 384,
   "metadata": {},
   "outputs": [
    {
     "data": {
      "text/html": [
       "<style  type=\"text/css\" >\n",
       "</style>  \n",
       "<table id=\"T_75b0e3d8_73f3_11e8_85b2_88e9fe57aac0\" > \n",
       "<thead>    <tr> \n",
       "        <th class=\"blank level0\" ></th> \n",
       "        <th class=\"col_heading level0 col0\" >Average Purchase Price</th> \n",
       "        <th class=\"col_heading level0 col1\" >Normalized Total</th> \n",
       "        <th class=\"col_heading level0 col2\" >Purchase Count</th> \n",
       "        <th class=\"col_heading level0 col3\" >Total Purchase Value</th> \n",
       "    </tr>    <tr> \n",
       "        <th class=\"index_name level0\" >Age Group</th> \n",
       "        <th class=\"blank\" ></th> \n",
       "        <th class=\"blank\" ></th> \n",
       "        <th class=\"blank\" ></th> \n",
       "        <th class=\"blank\" ></th> \n",
       "    </tr></thead> \n",
       "<tbody>    <tr> \n",
       "        <th id=\"T_75b0e3d8_73f3_11e8_85b2_88e9fe57aac0level0_row0\" class=\"row_heading level0 row0\" ><10</th> \n",
       "        <td id=\"T_75b0e3d8_73f3_11e8_85b2_88e9fe57aac0row0_col0\" class=\"data row0 col0\" >$2.98</td> \n",
       "        <td id=\"T_75b0e3d8_73f3_11e8_85b2_88e9fe57aac0row0_col1\" class=\"data row0 col1\" >4.39</td> \n",
       "        <td id=\"T_75b0e3d8_73f3_11e8_85b2_88e9fe57aac0row0_col2\" class=\"data row0 col2\" >28</td> \n",
       "        <td id=\"T_75b0e3d8_73f3_11e8_85b2_88e9fe57aac0row0_col3\" class=\"data row0 col3\" >$83.46</td> \n",
       "    </tr>    <tr> \n",
       "        <th id=\"T_75b0e3d8_73f3_11e8_85b2_88e9fe57aac0level0_row1\" class=\"row_heading level0 row1\" >10-14</th> \n",
       "        <td id=\"T_75b0e3d8_73f3_11e8_85b2_88e9fe57aac0row1_col0\" class=\"data row1 col0\" >$2.77</td> \n",
       "        <td id=\"T_75b0e3d8_73f3_11e8_85b2_88e9fe57aac0row1_col1\" class=\"data row1 col1\" >4.22</td> \n",
       "        <td id=\"T_75b0e3d8_73f3_11e8_85b2_88e9fe57aac0row1_col2\" class=\"data row1 col2\" >35</td> \n",
       "        <td id=\"T_75b0e3d8_73f3_11e8_85b2_88e9fe57aac0row1_col3\" class=\"data row1 col3\" >$96.95</td> \n",
       "    </tr>    <tr> \n",
       "        <th id=\"T_75b0e3d8_73f3_11e8_85b2_88e9fe57aac0level0_row2\" class=\"row_heading level0 row2\" >15-19</th> \n",
       "        <td id=\"T_75b0e3d8_73f3_11e8_85b2_88e9fe57aac0row2_col0\" class=\"data row2 col0\" >$2.91</td> \n",
       "        <td id=\"T_75b0e3d8_73f3_11e8_85b2_88e9fe57aac0row2_col1\" class=\"data row2 col1\" >3.86</td> \n",
       "        <td id=\"T_75b0e3d8_73f3_11e8_85b2_88e9fe57aac0row2_col2\" class=\"data row2 col2\" >133</td> \n",
       "        <td id=\"T_75b0e3d8_73f3_11e8_85b2_88e9fe57aac0row2_col3\" class=\"data row2 col3\" >$386.42</td> \n",
       "    </tr>    <tr> \n",
       "        <th id=\"T_75b0e3d8_73f3_11e8_85b2_88e9fe57aac0level0_row3\" class=\"row_heading level0 row3\" >20-24</th> \n",
       "        <td id=\"T_75b0e3d8_73f3_11e8_85b2_88e9fe57aac0row3_col0\" class=\"data row3 col0\" >$2.91</td> \n",
       "        <td id=\"T_75b0e3d8_73f3_11e8_85b2_88e9fe57aac0row3_col1\" class=\"data row3 col1\" >3.78</td> \n",
       "        <td id=\"T_75b0e3d8_73f3_11e8_85b2_88e9fe57aac0row3_col2\" class=\"data row3 col2\" >336</td> \n",
       "        <td id=\"T_75b0e3d8_73f3_11e8_85b2_88e9fe57aac0row3_col3\" class=\"data row3 col3\" >$978.77</td> \n",
       "    </tr>    <tr> \n",
       "        <th id=\"T_75b0e3d8_73f3_11e8_85b2_88e9fe57aac0level0_row4\" class=\"row_heading level0 row4\" >25-29</th> \n",
       "        <td id=\"T_75b0e3d8_73f3_11e8_85b2_88e9fe57aac0row4_col0\" class=\"data row4 col0\" >$2.96</td> \n",
       "        <td id=\"T_75b0e3d8_73f3_11e8_85b2_88e9fe57aac0row4_col1\" class=\"data row4 col1\" >4.26</td> \n",
       "        <td id=\"T_75b0e3d8_73f3_11e8_85b2_88e9fe57aac0row4_col2\" class=\"data row4 col2\" >125</td> \n",
       "        <td id=\"T_75b0e3d8_73f3_11e8_85b2_88e9fe57aac0row4_col3\" class=\"data row4 col3\" >$370.33</td> \n",
       "    </tr>    <tr> \n",
       "        <th id=\"T_75b0e3d8_73f3_11e8_85b2_88e9fe57aac0level0_row5\" class=\"row_heading level0 row5\" >30-34</th> \n",
       "        <td id=\"T_75b0e3d8_73f3_11e8_85b2_88e9fe57aac0row5_col0\" class=\"data row5 col0\" >$3.08</td> \n",
       "        <td id=\"T_75b0e3d8_73f3_11e8_85b2_88e9fe57aac0row5_col1\" class=\"data row5 col1\" >4.2</td> \n",
       "        <td id=\"T_75b0e3d8_73f3_11e8_85b2_88e9fe57aac0row5_col2\" class=\"data row5 col2\" >64</td> \n",
       "        <td id=\"T_75b0e3d8_73f3_11e8_85b2_88e9fe57aac0row5_col3\" class=\"data row5 col3\" >$197.25</td> \n",
       "    </tr>    <tr> \n",
       "        <th id=\"T_75b0e3d8_73f3_11e8_85b2_88e9fe57aac0level0_row6\" class=\"row_heading level0 row6\" >35-39</th> \n",
       "        <td id=\"T_75b0e3d8_73f3_11e8_85b2_88e9fe57aac0row6_col0\" class=\"data row6 col0\" >$2.84</td> \n",
       "        <td id=\"T_75b0e3d8_73f3_11e8_85b2_88e9fe57aac0row6_col1\" class=\"data row6 col1\" >4.42</td> \n",
       "        <td id=\"T_75b0e3d8_73f3_11e8_85b2_88e9fe57aac0row6_col2\" class=\"data row6 col2\" >42</td> \n",
       "        <td id=\"T_75b0e3d8_73f3_11e8_85b2_88e9fe57aac0row6_col3\" class=\"data row6 col3\" >$119.40</td> \n",
       "    </tr>    <tr> \n",
       "        <th id=\"T_75b0e3d8_73f3_11e8_85b2_88e9fe57aac0level0_row7\" class=\"row_heading level0 row7\" >40></th> \n",
       "        <td id=\"T_75b0e3d8_73f3_11e8_85b2_88e9fe57aac0row7_col0\" class=\"data row7 col0\" >$3.16</td> \n",
       "        <td id=\"T_75b0e3d8_73f3_11e8_85b2_88e9fe57aac0row7_col1\" class=\"data row7 col1\" >4.89</td> \n",
       "        <td id=\"T_75b0e3d8_73f3_11e8_85b2_88e9fe57aac0row7_col2\" class=\"data row7 col2\" >17</td> \n",
       "        <td id=\"T_75b0e3d8_73f3_11e8_85b2_88e9fe57aac0row7_col3\" class=\"data row7 col3\" >$53.75</td> \n",
       "    </tr></tbody> \n",
       "</table> "
      ],
      "text/plain": [
       "<pandas.io.formats.style.Styler at 0x1a1a738710>"
      ]
     },
     "execution_count": 384,
     "metadata": {},
     "output_type": "execute_result"
    }
   ],
   "source": [
    "## Age Demographics\n",
    "# Calculate purchase count, average purchase price, total purchase value and normalized total \n",
    "# in bins of 4 years (i.e. &lt;10, 10-14, 15-19, etc.) \n",
    "\n",
    "purchaseCount = PymoliDF.groupby(\"Age Group\")[\"Price\"].count()\n",
    "avgPurchPrice = PymoliDF.groupby(\"Age Group\")[\"Price\"].mean()\n",
    "tPurchValue = PymoliDF.groupby(\"Age Group\")[\"Price\"].sum()\n",
    "normTotal = round((tPurchValue / ageGroupCount), 2)\n",
    "\n",
    "agePurchAnalysisDF = pd.DataFrame({\"Purchase Count\": purchaseCount,\n",
    "                                   \"Average Purchase Price\": avgPurchPrice,\n",
    "                                   \"Total Purchase Value\": tPurchValue, \n",
    "                                   \"Normalized Total\": normTotal}).style.format({\"Average Purchase Price\":\"${:,.2f}\", \n",
    "                                                                                 \"Total Purchase Value\":\"${:,.2f}\" })\n",
    "agePurchAnalysisDF\n"
   ]
  },
  {
   "cell_type": "code",
   "execution_count": 385,
   "metadata": {},
   "outputs": [
    {
     "data": {
      "text/html": [
       "<style  type=\"text/css\" >\n",
       "</style>  \n",
       "<table id=\"T_7fe1f264_73f3_11e8_816f_88e9fe57aac0\" > \n",
       "<thead>    <tr> \n",
       "        <th class=\"blank level0\" ></th> \n",
       "        <th class=\"col_heading level0 col0\" >Average Purchase Price</th> \n",
       "        <th class=\"col_heading level0 col1\" >Purchase Count</th> \n",
       "        <th class=\"col_heading level0 col2\" >Total Purchase Price</th> \n",
       "    </tr>    <tr> \n",
       "        <th class=\"index_name level0\" >SN</th> \n",
       "        <th class=\"blank\" ></th> \n",
       "        <th class=\"blank\" ></th> \n",
       "        <th class=\"blank\" ></th> \n",
       "    </tr></thead> \n",
       "<tbody>    <tr> \n",
       "        <th id=\"T_7fe1f264_73f3_11e8_816f_88e9fe57aac0level0_row0\" class=\"row_heading level0 row0\" >Undirrala66</th> \n",
       "        <td id=\"T_7fe1f264_73f3_11e8_816f_88e9fe57aac0row0_col0\" class=\"data row0 col0\" >$3.41</td> \n",
       "        <td id=\"T_7fe1f264_73f3_11e8_816f_88e9fe57aac0row0_col1\" class=\"data row0 col1\" >5</td> \n",
       "        <td id=\"T_7fe1f264_73f3_11e8_816f_88e9fe57aac0row0_col2\" class=\"data row0 col2\" >$17.06</td> \n",
       "    </tr>    <tr> \n",
       "        <th id=\"T_7fe1f264_73f3_11e8_816f_88e9fe57aac0level0_row1\" class=\"row_heading level0 row1\" >Saedue76</th> \n",
       "        <td id=\"T_7fe1f264_73f3_11e8_816f_88e9fe57aac0row1_col0\" class=\"data row1 col0\" >$3.39</td> \n",
       "        <td id=\"T_7fe1f264_73f3_11e8_816f_88e9fe57aac0row1_col1\" class=\"data row1 col1\" >4</td> \n",
       "        <td id=\"T_7fe1f264_73f3_11e8_816f_88e9fe57aac0row1_col2\" class=\"data row1 col2\" >$13.56</td> \n",
       "    </tr>    <tr> \n",
       "        <th id=\"T_7fe1f264_73f3_11e8_816f_88e9fe57aac0level0_row2\" class=\"row_heading level0 row2\" >Mindimnya67</th> \n",
       "        <td id=\"T_7fe1f264_73f3_11e8_816f_88e9fe57aac0row2_col0\" class=\"data row2 col0\" >$3.18</td> \n",
       "        <td id=\"T_7fe1f264_73f3_11e8_816f_88e9fe57aac0row2_col1\" class=\"data row2 col1\" >4</td> \n",
       "        <td id=\"T_7fe1f264_73f3_11e8_816f_88e9fe57aac0row2_col2\" class=\"data row2 col2\" >$12.74</td> \n",
       "    </tr>    <tr> \n",
       "        <th id=\"T_7fe1f264_73f3_11e8_816f_88e9fe57aac0level0_row3\" class=\"row_heading level0 row3\" >Haellysu29</th> \n",
       "        <td id=\"T_7fe1f264_73f3_11e8_816f_88e9fe57aac0row3_col0\" class=\"data row3 col0\" >$4.24</td> \n",
       "        <td id=\"T_7fe1f264_73f3_11e8_816f_88e9fe57aac0row3_col1\" class=\"data row3 col1\" >3</td> \n",
       "        <td id=\"T_7fe1f264_73f3_11e8_816f_88e9fe57aac0row3_col2\" class=\"data row3 col2\" >$12.73</td> \n",
       "    </tr>    <tr> \n",
       "        <th id=\"T_7fe1f264_73f3_11e8_816f_88e9fe57aac0level0_row4\" class=\"row_heading level0 row4\" >Eoda93</th> \n",
       "        <td id=\"T_7fe1f264_73f3_11e8_816f_88e9fe57aac0row4_col0\" class=\"data row4 col0\" >$3.86</td> \n",
       "        <td id=\"T_7fe1f264_73f3_11e8_816f_88e9fe57aac0row4_col1\" class=\"data row4 col1\" >3</td> \n",
       "        <td id=\"T_7fe1f264_73f3_11e8_816f_88e9fe57aac0row4_col2\" class=\"data row4 col2\" >$11.58</td> \n",
       "    </tr></tbody> \n",
       "</table> "
      ],
      "text/plain": [
       "<pandas.io.formats.style.Styler at 0x1a1a2ee518>"
      ]
     },
     "execution_count": 385,
     "metadata": {},
     "output_type": "execute_result"
    }
   ],
   "source": [
    "## Top Spenders\n",
    "# Identify top 5 spenders by total purchase value: include SN, Purchase Count, Avg Purchase Price, Total Purchase Price\n",
    " \n",
    "tPurchValue = PymoliDF.groupby(\"SN\")[\"Price\"].sum()\n",
    "purchCount = PymoliDF.groupby(\"SN\")[\"Price\"].count()\n",
    "avgPurchPrice = PymoliDF.groupby(\"SN\")[\"Price\"].mean()\n",
    "\n",
    "topSpendersDF = pd.DataFrame({\"Total Purchase Price\": tPurchValue, \n",
    "                             \"Purchase Count\": purchCount, \n",
    "                             \"Average Purchase Price\": avgPurchPrice})\n",
    "\n",
    "topSpendersDF.nlargest(5, \"Total Purchase Price\").style.format({\"Total Purchase Price\":\"${:,.2f}\", \n",
    "                                                               \"Average Purchase Price\":\"${:,.2f}\"})\n",
    "\n"
   ]
  },
  {
   "cell_type": "code",
   "execution_count": 386,
   "metadata": {},
   "outputs": [
    {
     "data": {
      "text/html": [
       "<style  type=\"text/css\" >\n",
       "</style>  \n",
       "<table id=\"T_92e6ae7a_73f3_11e8_badb_88e9fe57aac0\" > \n",
       "<thead>    <tr> \n",
       "        <th class=\"blank\" ></th> \n",
       "        <th class=\"blank level0\" ></th> \n",
       "        <th class=\"col_heading level0 col0\" >Item Price</th> \n",
       "        <th class=\"col_heading level0 col1\" >Purchase Count</th> \n",
       "        <th class=\"col_heading level0 col2\" >Total Purchase Value</th> \n",
       "    </tr>    <tr> \n",
       "        <th class=\"index_name level0\" >Item ID</th> \n",
       "        <th class=\"index_name level1\" >Item Name</th> \n",
       "        <th class=\"blank\" ></th> \n",
       "        <th class=\"blank\" ></th> \n",
       "        <th class=\"blank\" ></th> \n",
       "    </tr></thead> \n",
       "<tbody>    <tr> \n",
       "        <th id=\"T_92e6ae7a_73f3_11e8_badb_88e9fe57aac0level0_row0\" class=\"row_heading level0 row0\" >39</th> \n",
       "        <th id=\"T_92e6ae7a_73f3_11e8_badb_88e9fe57aac0level1_row0\" class=\"row_heading level1 row0\" >Betrayal, Whisper of Grieving Widows</th> \n",
       "        <td id=\"T_92e6ae7a_73f3_11e8_badb_88e9fe57aac0row0_col0\" class=\"data row0 col0\" >$2.35</td> \n",
       "        <td id=\"T_92e6ae7a_73f3_11e8_badb_88e9fe57aac0row0_col1\" class=\"data row0 col1\" >11</td> \n",
       "        <td id=\"T_92e6ae7a_73f3_11e8_badb_88e9fe57aac0row0_col2\" class=\"data row0 col2\" >$25.85</td> \n",
       "    </tr>    <tr> \n",
       "        <th id=\"T_92e6ae7a_73f3_11e8_badb_88e9fe57aac0level0_row1\" class=\"row_heading level0 row1\" >84</th> \n",
       "        <th id=\"T_92e6ae7a_73f3_11e8_badb_88e9fe57aac0level1_row1\" class=\"row_heading level1 row1\" >Arcane Gem</th> \n",
       "        <td id=\"T_92e6ae7a_73f3_11e8_badb_88e9fe57aac0row1_col0\" class=\"data row1 col0\" >$2.23</td> \n",
       "        <td id=\"T_92e6ae7a_73f3_11e8_badb_88e9fe57aac0row1_col1\" class=\"data row1 col1\" >11</td> \n",
       "        <td id=\"T_92e6ae7a_73f3_11e8_badb_88e9fe57aac0row1_col2\" class=\"data row1 col2\" >$24.53</td> \n",
       "    </tr>    <tr> \n",
       "        <th id=\"T_92e6ae7a_73f3_11e8_badb_88e9fe57aac0level0_row2\" class=\"row_heading level0 row2\" >13</th> \n",
       "        <th id=\"T_92e6ae7a_73f3_11e8_badb_88e9fe57aac0level1_row2\" class=\"row_heading level1 row2\" >Serenity</th> \n",
       "        <td id=\"T_92e6ae7a_73f3_11e8_badb_88e9fe57aac0row2_col0\" class=\"data row2 col0\" >$1.49</td> \n",
       "        <td id=\"T_92e6ae7a_73f3_11e8_badb_88e9fe57aac0row2_col1\" class=\"data row2 col1\" >9</td> \n",
       "        <td id=\"T_92e6ae7a_73f3_11e8_badb_88e9fe57aac0row2_col2\" class=\"data row2 col2\" >$13.41</td> \n",
       "    </tr>    <tr> \n",
       "        <th id=\"T_92e6ae7a_73f3_11e8_badb_88e9fe57aac0level0_row3\" class=\"row_heading level0 row3\" >31</th> \n",
       "        <th id=\"T_92e6ae7a_73f3_11e8_badb_88e9fe57aac0level1_row3\" class=\"row_heading level1 row3\" >Trickster</th> \n",
       "        <td id=\"T_92e6ae7a_73f3_11e8_badb_88e9fe57aac0row3_col0\" class=\"data row3 col0\" >$2.07</td> \n",
       "        <td id=\"T_92e6ae7a_73f3_11e8_badb_88e9fe57aac0row3_col1\" class=\"data row3 col1\" >9</td> \n",
       "        <td id=\"T_92e6ae7a_73f3_11e8_badb_88e9fe57aac0row3_col2\" class=\"data row3 col2\" >$18.63</td> \n",
       "    </tr>    <tr> \n",
       "        <th id=\"T_92e6ae7a_73f3_11e8_badb_88e9fe57aac0level0_row4\" class=\"row_heading level0 row4\" >34</th> \n",
       "        <th id=\"T_92e6ae7a_73f3_11e8_badb_88e9fe57aac0level1_row4\" class=\"row_heading level1 row4\" >Retribution Axe</th> \n",
       "        <td id=\"T_92e6ae7a_73f3_11e8_badb_88e9fe57aac0row4_col0\" class=\"data row4 col0\" >$4.14</td> \n",
       "        <td id=\"T_92e6ae7a_73f3_11e8_badb_88e9fe57aac0row4_col1\" class=\"data row4 col1\" >9</td> \n",
       "        <td id=\"T_92e6ae7a_73f3_11e8_badb_88e9fe57aac0row4_col2\" class=\"data row4 col2\" >$37.26</td> \n",
       "    </tr></tbody> \n",
       "</table> "
      ],
      "text/plain": [
       "<pandas.io.formats.style.Styler at 0x1a1a2ee9b0>"
      ]
     },
     "execution_count": 386,
     "metadata": {},
     "output_type": "execute_result"
    }
   ],
   "source": [
    "## Most Popular Items\n",
    "# Identify 5 top items by purchase count: include Item ID, Item Name, Purchase Count, Item Price, Total Purchase Value\n",
    " \n",
    "purchCount = PymoliDF.groupby([\"Item ID\", \"Item Name\"])[\"Price\"].count()\n",
    "tPurchValue = PymoliDF.groupby([\"Item ID\", \"Item Name\"])[\"Price\"].sum()\n",
    "itemPrice = PymoliDF.groupby([\"Item ID\", \"Item Name\"])[\"Price\"].mean()\n",
    "\n",
    "\n",
    "mostPopItemsDF = pd.DataFrame({\"Purchase Count\": purchCount,\n",
    "                             \"Total Purchase Value\": tPurchValue, \n",
    "                             \"Item Price\": itemPrice}).nlargest(5, \"Purchase Count\")\\\n",
    "                            .style.format({\"Total Purchase Value\":\"${:,.2f}\", \"Item Price\":\"${:,.2f}\"})\n",
    "mostPopItemsDF\n"
   ]
  },
  {
   "cell_type": "code",
   "execution_count": 388,
   "metadata": {},
   "outputs": [
    {
     "data": {
      "text/html": [
       "<style  type=\"text/css\" >\n",
       "</style>  \n",
       "<table id=\"T_9e1a8570_73f3_11e8_ba80_88e9fe57aac0\" > \n",
       "<thead>    <tr> \n",
       "        <th class=\"blank\" ></th> \n",
       "        <th class=\"blank level0\" ></th> \n",
       "        <th class=\"col_heading level0 col0\" >Item Price</th> \n",
       "        <th class=\"col_heading level0 col1\" >Purchase Count</th> \n",
       "        <th class=\"col_heading level0 col2\" >Total Purchase Value</th> \n",
       "    </tr>    <tr> \n",
       "        <th class=\"index_name level0\" >Item ID</th> \n",
       "        <th class=\"index_name level1\" >Item Name</th> \n",
       "        <th class=\"blank\" ></th> \n",
       "        <th class=\"blank\" ></th> \n",
       "        <th class=\"blank\" ></th> \n",
       "    </tr></thead> \n",
       "<tbody>    <tr> \n",
       "        <th id=\"T_9e1a8570_73f3_11e8_ba80_88e9fe57aac0level0_row0\" class=\"row_heading level0 row0\" >34</th> \n",
       "        <th id=\"T_9e1a8570_73f3_11e8_ba80_88e9fe57aac0level1_row0\" class=\"row_heading level1 row0\" >Retribution Axe</th> \n",
       "        <td id=\"T_9e1a8570_73f3_11e8_ba80_88e9fe57aac0row0_col0\" class=\"data row0 col0\" >$4.14</td> \n",
       "        <td id=\"T_9e1a8570_73f3_11e8_ba80_88e9fe57aac0row0_col1\" class=\"data row0 col1\" >9</td> \n",
       "        <td id=\"T_9e1a8570_73f3_11e8_ba80_88e9fe57aac0row0_col2\" class=\"data row0 col2\" >$37.26</td> \n",
       "    </tr>    <tr> \n",
       "        <th id=\"T_9e1a8570_73f3_11e8_ba80_88e9fe57aac0level0_row1\" class=\"row_heading level0 row1\" >115</th> \n",
       "        <th id=\"T_9e1a8570_73f3_11e8_ba80_88e9fe57aac0level1_row1\" class=\"row_heading level1 row1\" >Spectral Diamond Doomblade</th> \n",
       "        <td id=\"T_9e1a8570_73f3_11e8_ba80_88e9fe57aac0row1_col0\" class=\"data row1 col0\" >$4.25</td> \n",
       "        <td id=\"T_9e1a8570_73f3_11e8_ba80_88e9fe57aac0row1_col1\" class=\"data row1 col1\" >7</td> \n",
       "        <td id=\"T_9e1a8570_73f3_11e8_ba80_88e9fe57aac0row1_col2\" class=\"data row1 col2\" >$29.75</td> \n",
       "    </tr>    <tr> \n",
       "        <th id=\"T_9e1a8570_73f3_11e8_ba80_88e9fe57aac0level0_row2\" class=\"row_heading level0 row2\" >32</th> \n",
       "        <th id=\"T_9e1a8570_73f3_11e8_ba80_88e9fe57aac0level1_row2\" class=\"row_heading level1 row2\" >Orenmir</th> \n",
       "        <td id=\"T_9e1a8570_73f3_11e8_ba80_88e9fe57aac0row2_col0\" class=\"data row2 col0\" >$4.95</td> \n",
       "        <td id=\"T_9e1a8570_73f3_11e8_ba80_88e9fe57aac0row2_col1\" class=\"data row2 col1\" >6</td> \n",
       "        <td id=\"T_9e1a8570_73f3_11e8_ba80_88e9fe57aac0row2_col2\" class=\"data row2 col2\" >$29.70</td> \n",
       "    </tr>    <tr> \n",
       "        <th id=\"T_9e1a8570_73f3_11e8_ba80_88e9fe57aac0level0_row3\" class=\"row_heading level0 row3\" >103</th> \n",
       "        <th id=\"T_9e1a8570_73f3_11e8_ba80_88e9fe57aac0level1_row3\" class=\"row_heading level1 row3\" >Singed Scalpel</th> \n",
       "        <td id=\"T_9e1a8570_73f3_11e8_ba80_88e9fe57aac0row3_col0\" class=\"data row3 col0\" >$4.87</td> \n",
       "        <td id=\"T_9e1a8570_73f3_11e8_ba80_88e9fe57aac0row3_col1\" class=\"data row3 col1\" >6</td> \n",
       "        <td id=\"T_9e1a8570_73f3_11e8_ba80_88e9fe57aac0row3_col2\" class=\"data row3 col2\" >$29.22</td> \n",
       "    </tr>    <tr> \n",
       "        <th id=\"T_9e1a8570_73f3_11e8_ba80_88e9fe57aac0level0_row4\" class=\"row_heading level0 row4\" >107</th> \n",
       "        <th id=\"T_9e1a8570_73f3_11e8_ba80_88e9fe57aac0level1_row4\" class=\"row_heading level1 row4\" >Splitter, Foe Of Subtlety</th> \n",
       "        <td id=\"T_9e1a8570_73f3_11e8_ba80_88e9fe57aac0row4_col0\" class=\"data row4 col0\" >$3.61</td> \n",
       "        <td id=\"T_9e1a8570_73f3_11e8_ba80_88e9fe57aac0row4_col1\" class=\"data row4 col1\" >8</td> \n",
       "        <td id=\"T_9e1a8570_73f3_11e8_ba80_88e9fe57aac0row4_col2\" class=\"data row4 col2\" >$28.88</td> \n",
       "    </tr></tbody> \n",
       "</table> "
      ],
      "text/plain": [
       "<pandas.io.formats.style.Styler at 0x1a1a739d68>"
      ]
     },
     "execution_count": 388,
     "metadata": {},
     "output_type": "execute_result"
    }
   ],
   "source": [
    "## Most Profitable Items\n",
    "# Identify 5 most profitable items by total purchase value: \n",
    "# include Item ID, Item Name, Purchase Count, Item Price, Total Purchase Value\n",
    " \n",
    "mostProfitItemsDF = pd.DataFrame({\"Purchase Count\": purchCount, \n",
    "                               \"Total Purchase Value\": tPurchValue, \n",
    "                               \"Item Price\": itemPrice}).nlargest(5, \"Total Purchase Value\")\\\n",
    "                               .style.format({\"Total Purchase Value\":\"${:,.2f}\", \"Item Price\":\"${:,.2f}\"})\n",
    "mostProfitItemsDF\n",
    "\n",
    "    "
   ]
  }
 ],
 "metadata": {
  "kernelspec": {
   "display_name": "Python 3",
   "language": "python",
   "name": "python3"
  },
  "language_info": {
   "codemirror_mode": {
    "name": "ipython",
    "version": 3
   },
   "file_extension": ".py",
   "mimetype": "text/x-python",
   "name": "python",
   "nbconvert_exporter": "python",
   "pygments_lexer": "ipython3",
   "version": "3.6.4"
  }
 },
 "nbformat": 4,
 "nbformat_minor": 2
}
